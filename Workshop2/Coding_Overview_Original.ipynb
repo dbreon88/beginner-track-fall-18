{
  "nbformat": 4,
  "nbformat_minor": 0,
  "metadata": {
    "colab": {
      "name": "Coding_Overview_Original.ipynb",
      "version": "0.3.2",
      "provenance": [],
      "collapsed_sections": []
    },
    "kernelspec": {
      "display_name": "Python 3",
      "language": "python",
      "name": "python3"
    }
  },
  "cells": [
    {
      "metadata": {
        "colab_type": "text",
        "id": "RS0bpNdPSsPH"
      },
      "cell_type": "markdown",
      "source": [
        "# ACM AI | Beginner Track Workshop #2: Code + Math Overview\n",
        "\n",
        "##Note: \n",
        "You can find a list of recommended resources at the bottom if you want a more formal introduction to these topics. If you have any questions / concerns, feel free to reach out to the officers over Facebook.\n",
        "## What you'll learn\n",
        "### Code\n",
        "General coding constructs like loops, conditionals, functions etc. We'll also go over concepts used extensively in Machine Learning and the rest of our series: Vectors and manipulating Vectors through code.\n",
        "\n",
        "### Math\n",
        "Linear Algebra concepts like Matrix Multiplication, vector addition, dot products, etc. We'll be going over concepts from Multivariable Calculus like gradients and partial derivatives, but we'll also give you the Single Variable Calculus equivalent.\n",
        "\n",
        "So let's get into it!\n",
        "\n",
        "## Why do we code?\n",
        "Humans are generally smarter than computers (for now), but machines can perform some types of functions quickly and repeatedly. The sheer speed of computers is what makes them indipensible. To make computers use that speed in ways we want them to, we code.\n",
        "\n",
        "**Quick notes** before we get to the code examples:\n",
        "* We use the print() function to output things. If you're unsure what this means, don't worry about it - take it as a black box and just know you can use the print() function to output things in later exercises.\n",
        "*  Indentation matters in python. Keep indentation consistent.\n",
        "\n",
        "### So what are some things a computer can do?\n",
        "A computer can **store data.**\n",
        "\n",
        "We store \"singular\" data by using **variables**. In Python, you do not have to specify the type of variable upon creation. However, it is still useful to know the most common data types.\n",
        "\n",
        "**Numbers**\n",
        "   *   **int:** integer.\n",
        "   *   **double / float:** numbers with decimal places.\n",
        "   \n",
        "**Strings / chars**\n",
        "   *   **character (char for short):** a single character, ex. 'a', '1' - we usually put chars in single quotes.\n",
        "   *   **string:** a sequence of characters. We usually put strings in double or single quotes, ex. \"Artificial intelligence probably won't end the world\", 'Andrew Ng is cool.'\n",
        "   *  Note: Strings and chars have lots of useful functions that are good to know. We won't spend time on them here, though.\n",
        "   \n",
        "**Boolean:** has value of true or false.\n",
        "\n",
        "\n",
        "It is also important to know basic **math operations** available to you. Below are the five most important ones, with code examples below:\n",
        "\n",
        "**Addition: +**\n"
      ]
    },
    {
      "metadata": {
        "colab_type": "code",
        "id": "sep30FFl_-IR",
        "colab": {}
      },
      "cell_type": "code",
      "source": [
        "y = 2 + 3\n",
        "print(y)"
      ],
      "execution_count": 0,
      "outputs": []
    },
    {
      "metadata": {
        "colab_type": "text",
        "id": "SOSEK1dG_-fi"
      },
      "cell_type": "markdown",
      "source": [
        "**   Subtraction: - **\n",
        "\n",
        "\n",
        "   *   Ex. z = 5 - 1\n",
        "   \n",
        "** Multiplication: * **\n",
        "   *   Ex. w = 6 * 5\n",
        "   *   **Important note:** You cannot use implicit multiplication in most coding languages, including Python. Saying 'x = yz' to make x have the value of y and z's product will NOT give you the result you want.\n",
        "\n"
      ]
    },
    {
      "metadata": {
        "colab_type": "code",
        "id": "EHHWwYBeA-Jq",
        "colab": {}
      },
      "cell_type": "code",
      "source": [
        "y = 6 * 5\n",
        "print(y)"
      ],
      "execution_count": 0,
      "outputs": []
    },
    {
      "metadata": {
        "colab_type": "code",
        "id": "4uLKMIECBAXn",
        "colab": {}
      },
      "cell_type": "code",
      "source": [
        "x = 2\n",
        "y = 3\n",
        "z = xy\n",
        "print(z)"
      ],
      "execution_count": 0,
      "outputs": []
    },
    {
      "metadata": {
        "colab_type": "text",
        "id": "m6DoODn0A76C"
      },
      "cell_type": "markdown",
      "source": [
        "Notice how the second \"incorrect\" form of multiplication results in an error - the computer thinks xy is the name of another variable.\n",
        "\n",
        "**Division: /**\n",
        "   *   Ex. s = 60 / 3\n",
        "   *   Unlike in other languages in which dividing two integers results in a solely integer value, Python does not require its variables to have data types upon declaration so you don't have to worry too much about lack of precision.\n",
        "   \n",
        "**Mod: %**\n",
        "   *   Mod tells you the remainder when divide one number by another. It is best illustrated by an example:\n",
        "   *   Ex. 23 % 5 = 3 because if you do calculate 23 by 5, you'll get a remainder of 3.\n",
        "   *   Negative mods get a little messy, so ignore them for now.\n"
      ]
    },
    {
      "metadata": {
        "colab_type": "code",
        "id": "FZG3qgagBOnF",
        "colab": {}
      },
      "cell_type": "code",
      "source": [
        "q = 23 % 5\n",
        "print(q)\n",
        "r = 42 % 2\n",
        "print(r)"
      ],
      "execution_count": 0,
      "outputs": []
    },
    {
      "metadata": {
        "colab_type": "text",
        "id": "A0qlYVW9BO9P"
      },
      "cell_type": "markdown",
      "source": [
        "If you want to store multiple variables in one place, you can use data structures. We present two of the most basic structures below:\n",
        "\n",
        "**Arrays**\n",
        "\n",
        "An **array** is a collection of elements of the same type. To create arrays, you'll need to import array module (see below)."
      ]
    },
    {
      "metadata": {
        "colab_type": "code",
        "id": "QPlfNnUrLgbB",
        "colab": {}
      },
      "cell_type": "code",
      "source": [
        "import array as arr\n",
        "a = arr.array('d', [3.2, 4.8, 7.6, 9.4])\n",
        "print(a)"
      ],
      "execution_count": 0,
      "outputs": []
    },
    {
      "metadata": {
        "colab_type": "text",
        "id": "bfnFgPipLgo8"
      },
      "cell_type": "markdown",
      "source": [
        "The letter in the beginning of the array, 'd', is a **type code**. This determines the type of array during creation. Click [here](http://2.bp.blogspot.com/-ANt3X8fY0Ag/T3pY7rlB1fI/AAAAAAAAHSs/iNQkOPQsTa0/s1600/array-1.JPG) to see some more type codes you can use.\n",
        "\n",
        "You can access array elements by using index. **The first element is at index 0!**\n"
      ]
    },
    {
      "metadata": {
        "colab_type": "code",
        "id": "3VhENLDeNhzo",
        "colab": {}
      },
      "cell_type": "code",
      "source": [
        "print(\"first element: \", a[0])\n",
        "print(\"second element: \", a[1])"
      ],
      "execution_count": 0,
      "outputs": []
    },
    {
      "metadata": {
        "colab_type": "text",
        "id": "w8y5LdqXOjhz"
      },
      "cell_type": "markdown",
      "source": [
        "Try it yourself - print out the last element of the array."
      ]
    },
    {
      "metadata": {
        "colab_type": "code",
        "id": "oTIfb7zPOjyG",
        "colab": {}
      },
      "cell_type": "code",
      "source": [
        "## TODO - PRINT LAST ELEMENT OF ARRAY"
      ],
      "execution_count": 0,
      "outputs": []
    },
    {
      "metadata": {
        "colab_type": "text",
        "id": "xleX7vhLOVOL"
      },
      "cell_type": "markdown",
      "source": [
        "Arrays are **mutable** - their elements can be changed! See the example below.\n",
        "\n"
      ]
    },
    {
      "metadata": {
        "colab_type": "code",
        "id": "0x6YtE50Ox85",
        "colab": {}
      },
      "cell_type": "code",
      "source": [
        "a[0] = 1.9\n",
        "print(a)"
      ],
      "execution_count": 0,
      "outputs": []
    },
    {
      "metadata": {
        "colab_type": "text",
        "id": "vsAZrlnwO6eT"
      },
      "cell_type": "markdown",
      "source": [
        "Now try it yourself - change the second element of the array to 2.7 and change the last element to 8.1."
      ]
    },
    {
      "metadata": {
        "colab_type": "code",
        "id": "o3KwVHSsPCJ6",
        "colab": {}
      },
      "cell_type": "code",
      "source": [
        "## TODO - IMPLEMENT CHANGES SPECIFIED ABOVE"
      ],
      "execution_count": 0,
      "outputs": []
    },
    {
      "metadata": {
        "colab_type": "text",
        "id": "M5t9NuG8PUNK"
      },
      "cell_type": "markdown",
      "source": [
        "You can add one item to a list using the append() method.\n",
        "\n",
        "Try it yourself - add 10.3 to the array using the append() method."
      ]
    },
    {
      "metadata": {
        "colab_type": "code",
        "id": "lLcHLU0WR_DX",
        "colab": {}
      },
      "cell_type": "code",
      "source": [
        "## TODO - ADD 10.3 TO ARRAY"
      ],
      "execution_count": 0,
      "outputs": []
    },
    {
      "metadata": {
        "colab_type": "text",
        "id": "h6JImDEjSCLW"
      },
      "cell_type": "markdown",
      "source": [
        "You can add multiple items to an array using the extend() method. \n",
        "\n",
        "See the example below, then complete the exercise below - it'll test your knowledge of all the information presented about arrays so far. All of these skills will be essential when doing our ML coding workshops this quarter, so make sure you understand these concepts and Python as well as possible!"
      ]
    },
    {
      "metadata": {
        "colab_type": "code",
        "id": "h4iX-BrGXFUg",
        "colab": {}
      },
      "cell_type": "code",
      "source": [
        "a.extend([12.4, 14.9, 16.4])\n",
        "print(a)"
      ],
      "execution_count": 0,
      "outputs": []
    },
    {
      "metadata": {
        "colab_type": "text",
        "id": "Zay7aFHrU4ky"
      },
      "cell_type": "markdown",
      "source": [
        "Replace the lines below with the code indicated. When you're done, run your code - we'll have the correct answers up for you to compare yours with."
      ]
    },
    {
      "metadata": {
        "colab_type": "code",
        "id": "OCw_4sOmXFfI",
        "colab": {}
      },
      "cell_type": "code",
      "source": [
        "## DECLARE AN ARRAY WITH THREE ELEMENTS: \"CAT\", \"DOG\", AND \"DRAGON\"\n",
        "## PRINT THE SECOND ELEMENT OF THE ARRAY\n",
        "## CHANGE THE THIRD ELEMENT TO \"GRIFFIN\"\n",
        "## ADD TWO ELEMENTS TO THE ARRAY: \"WOLF\", \"LLAMA\"\n",
        "## ADD \"BEAR\" USING APPEND()"
      ],
      "execution_count": 0,
      "outputs": []
    },
    {
      "metadata": {
        "colab_type": "text",
        "id": "zLu8BtPZY92k"
      },
      "cell_type": "markdown",
      "source": [
        "**Delete** elements from an array (or an entire array) using the del statement. See the example below."
      ]
    },
    {
      "metadata": {
        "colab_type": "code",
        "id": "Ww3HAVEtZS0c",
        "colab": {}
      },
      "cell_type": "code",
      "source": [
        "import array as arr\n",
        "todel = arr.array('i', [4, 6, 8])\n",
        "print(todel)\n",
        "del todel[2]\n",
        "print(todel)\n",
        "del todel\n",
        "print(todel)"
      ],
      "execution_count": 0,
      "outputs": []
    },
    {
      "metadata": {
        "colab_type": "text",
        "id": "cxUaSp3fkNZD"
      },
      "cell_type": "markdown",
      "source": [
        "**If / else**\n",
        "\n",
        "An **if / else statement** is a conditional statement that runs a different set of statements depending on whether an expression is true or false. \n",
        "\n",
        "Check out the example below (and change it if you'd like!) to see how it works."
      ]
    },
    {
      "metadata": {
        "colab_type": "code",
        "id": "BHrfUyLolCbc",
        "colab": {}
      },
      "cell_type": "code",
      "source": [
        "x = 5 ## CHANGE THIS VALUE TO SEE DIFFERENT OUTPUTS\n",
        "\n",
        "if x > 5:\n",
        "    print(\"greater than 5\")\n",
        "elif x < 5:\n",
        "    print (\"less than 5\")\n",
        "else:\n",
        "    print (\"equal to 5\")"
      ],
      "execution_count": 0,
      "outputs": []
    },
    {
      "metadata": {
        "colab_type": "text",
        "id": "o-JqE6ZKl16z"
      },
      "cell_type": "markdown",
      "source": [
        "Want to iterate over certain values but don't want to write them all out? Use **for / while** loops - see the example below."
      ]
    },
    {
      "metadata": {
        "colab_type": "code",
        "id": "tCBq61HLnkNq",
        "colab": {}
      },
      "cell_type": "code",
      "source": [
        "for i in range(4, 8):\n",
        "    print(i)\n",
        "\n",
        "print()\n",
        "\n",
        "i = 0\n",
        "while i < 5:\n",
        "    print(i)\n",
        "    i += 2"
      ],
      "execution_count": 0,
      "outputs": []
    },
    {
      "metadata": {
        "colab_type": "text",
        "id": "FGYg4MvENgnj"
      },
      "cell_type": "markdown",
      "source": [
        "**Functions**\n",
        "\n",
        "Oftentimes, we see the same snippet of code being used in different parts of the program. Instead of writing out this snippet every time we need it, we think of it as one whole unit, we give this unit a name, and we run this unit whenever we need to run the snippet of code. This unit is called a **function.**\n",
        "\n",
        "We give these functions intuitive names, which are often descriptive of the task the function performs.\n",
        "\n",
        "To define a function in Python, use the syntax below:"
      ]
    },
    {
      "metadata": {
        "colab_type": "code",
        "id": "eqtL66fIojUy",
        "colab": {}
      },
      "cell_type": "code",
      "source": [
        "def func_name():\n",
        "    print(\"Hello from a function\")"
      ],
      "execution_count": 0,
      "outputs": []
    },
    {
      "metadata": {
        "colab_type": "text",
        "id": "Y7FBch6eZ5NW"
      },
      "cell_type": "markdown",
      "source": [
        "**Libraries**\n",
        "\n",
        "Libraries are essentially groups of functions that have been written for you so that you don't have to write them all yourself. They're super useful and save us a lot of time.\n",
        "\n",
        "The library we'll be using throughought this series is Numpy. Numpy is a math library for Python. To use the Numpy library, you have to import it - you'll see examples of this in the math section below."
      ]
    },
    {
      "metadata": {
        "colab_type": "text",
        "id": "ldhsplWdolPb"
      },
      "cell_type": "markdown",
      "source": [
        "## Let's go over math now!\n",
        "\n",
        "### Vectors\n",
        "\n",
        "A **vector** or n-vector, for our purposes, is a 1-dimensional list/array of n data items of the same type.\n",
        "\n",
        "### Matrices\n",
        "\n",
        "A **matrix** is a 2-dimensional list/array. It can be thought of as a list of lists of vectors.\n",
        "\n",
        "We'll use numpy to work with vectors and matrices. As mentioned above, you have to import a library to use it. We import numpy **as** np so that instead of having to write out numpy everytime we use something from the library, we can just write 'np' and save ourselves lots of time.\n",
        "\n",
        "While this doesn't save us a lot of time when using numpy, this'll be extremely useful when you have to import libraries with fairly long names.\n",
        "\n",
        "Note: now you must refer to numpy as np! Writing out numpy instead of np to access what's within the library will NOT work."
      ]
    },
    {
      "metadata": {
        "colab_type": "code",
        "id": "J8yyIatlam0B",
        "colab": {}
      },
      "cell_type": "code",
      "source": [
        "import numpy as np"
      ],
      "execution_count": 0,
      "outputs": []
    },
    {
      "metadata": {
        "colab_type": "text",
        "id": "2va70gyxaoVd"
      },
      "cell_type": "markdown",
      "source": [
        "### Operations on Vectors and Matrices\n",
        "\n",
        "#### Vector Addition\n",
        "\n",
        "To add two vectors, they must have the same dimensions. In this case, both of the vectors we're adding have the dimensions $1xn$. Then, for the ith position within the resulting vector, the value will be the sum of the ith values of the input vectors. So the 1<sup>st</sup> value in the resulting vector will be $x$<sub>$1$</sub> $+ y$<sub>$1$</sub>, the 2<sup>nd</sup> value in the resulting vector will be $x$<sub>$2$</sub> $+ y$<sub>$2$</sub>, and so on.\n",
        "\n",
        "\n",
        "\n",
        "\n",
        "![vector addition general](https://drive.google.com/uc?export=view&id=14C3Yh0lqYOysfoW4dEMoIHLk_chNo7sp)\n",
        "\n"
      ]
    },
    {
      "metadata": {
        "colab_type": "code",
        "id": "iOwUUe2i9_3e",
        "colab": {
          "base_uri": "https://localhost:8080/",
          "height": 34
        },
        "outputId": "5a9b0372-3b59-4569-f30b-67c7f7f67a24"
      },
      "cell_type": "code",
      "source": [
        "## TODO - WRITE A FUNCTION THAT IMPLEMENTS VECTOR ADDITION.\n",
        "def vAdd(v1, v2):\n",
        "    return v1 + v2\n",
        "  \n",
        "a = np.array([1, 2, 3, 9])\n",
        "b = np.array([5, 4, 3, 8])\n",
        "\n",
        "print(vAdd(a,b))"
      ],
      "execution_count": 3,
      "outputs": [
        {
          "output_type": "stream",
          "text": [
            "[ 6  6  6 17]\n"
          ],
          "name": "stdout"
        }
      ]
    },
    {
      "metadata": {
        "colab_type": "text",
        "id": "TgsgGIxC-AHm"
      },
      "cell_type": "markdown",
      "source": [
        "\n",
        "#### Dot product\n",
        "\n",
        "The **dot product**  is a value which expresses the angluar relationship between two vectors. To take the dot product of two vectors, they **must** have the same number of elements.\n",
        "\n",
        "Below is the mathematical formula for dot product:\n",
        "\n",
        "$A$ ・$B$ = $|A|$ $|B|$ $cos(θ)$, where $θ$ is the angle between the vectors.\n",
        "\n",
        "For our purposes though, we'll consider the dot product to be the **sum of the element-wise products**. So the elements at the same position in both vectors are multiplied, and then all of these products are summed to get a final number, which will be a **scalar** value: the result of the dot product is a singular number, not a vector.\n",
        "\n",
        "![dot product general](https://drive.google.com/uc?export=view&id=1JA_3zl3JYOz5x433inQM0GQK3rEpecZy)\n"
      ]
    },
    {
      "metadata": {
        "id": "Iat0RdB9ugM2",
        "colab_type": "code",
        "colab": {
          "base_uri": "https://localhost:8080/",
          "height": 34
        },
        "outputId": "cab90822-6ed8-4118-f7d6-da5622ab9360"
      },
      "cell_type": "code",
      "source": [
        "## TODO - WRITE/USE A FUNCTION THAT IMPLEMENTS VECTOR DOT PRODUCT.\n",
        "\n",
        "## Check out the numpy function for dot product below. Feel free to play \n",
        "## around with it, and see what's allowed and what's not.\n",
        "v1 = [1,2]\n",
        "v2 = [3,4]\n",
        "np.dot(v1,v2)"
      ],
      "execution_count": 5,
      "outputs": [
        {
          "output_type": "execute_result",
          "data": {
            "text/plain": [
              "11"
            ]
          },
          "metadata": {
            "tags": []
          },
          "execution_count": 5
        }
      ]
    },
    {
      "metadata": {
        "colab_type": "text",
        "id": "yw7JvRjs-Q_-"
      },
      "cell_type": "markdown",
      "source": [
        "#### Transpose of a matrix\n",
        "\n",
        "To **transpose** a matrix to essentially make the matrix's rows its colums, and vice versa. This will best be illustrated through an example:\n",
        "\n",
        "Say $A$ is the matrix below, and its dimensions are 2 x 4. Then the transpose of $A$, denoted as $A^T$, will have the dimensions 4 x 2. See the images below.\n",
        "\n",
        "![A original](https://drive.google.com/uc?id=1_sNVKOz3SNSgqXI0cvrdj5Mi8kV2bcs0)\n",
        "\n",
        "\n",
        "![A transposed](https://drive.google.com/uc?id=1zy6uOYkctGz3EprBHE4uuR7oItLP5kHS)\n",
        "\n",
        "\n",
        "\n",
        "\n"
      ]
    },
    {
      "metadata": {
        "id": "yG7siDRuugM5",
        "colab_type": "code",
        "colab": {
          "base_uri": "https://localhost:8080/",
          "height": 86
        },
        "outputId": "6ed30982-b1a1-4943-8378-675bc2af5cfe"
      },
      "cell_type": "code",
      "source": [
        "## TODO - WRITE/USE A FUNCTION THAT IMPLEMENTS MATRIX TRANSPOSE.\n",
        "\n",
        "## See an example using the numpy attribute (don't worry too much about what an \n",
        "## attribute is, it gets the job done and that's what matters) to transpose\n",
        "## a vector. \n",
        "/a = np.array([[1,2], [4,5]])\n",
        "print(a)\n",
        "print(a.T)"
      ],
      "execution_count": 6,
      "outputs": [
        {
          "output_type": "stream",
          "text": [
            "[[1 2]\n",
            " [4 5]]\n",
            "[[1 4]\n",
            " [2 5]]\n"
          ],
          "name": "stdout"
        }
      ]
    },
    {
      "metadata": {
        "id": "J_ZucOJ2ugM6",
        "colab_type": "text"
      },
      "cell_type": "markdown",
      "source": [
        "#### Matrix - Vector Multiplication\n",
        "\n",
        "Matrix - vector multplication is a quick, efficient way of multiplying multiple vectors with different values. In the image below, note that the corresponding vectors in the first matrix are multiplied by corresponding scalars in the second vector. \n",
        "\n",
        "![matrix - vector multiplication general](https://drive.google.com/uc?export=view&id=1iXT7qxE5iDX_PCsF6WSC26YScQ53H05f)"
      ]
    },
    {
      "metadata": {
        "id": "qEqTkZ44ugM7",
        "colab_type": "text"
      },
      "cell_type": "markdown",
      "source": [
        "#### Matrix - Matrix Multiplication\n",
        "\n",
        "* You can only multiply two matrices $X$ and $Y$ if $X$ has dimensions $a$ x $b$ and $Y$ has dimension $b$ x $c$. The resulting matrix will have the dimensions $a$ x $c$.\n",
        "* Matrix multiplication is NOT commutative - $XY$ does NOT necessarily equal $YX$!\n",
        "* Don't worry about understanding matrix - matrix multiplication - while helpful to know and understand, you won't need it for the coding you'll be doing in later workshops."
      ]
    },
    {
      "metadata": {
        "colab_type": "text",
        "id": "5e3jsfsnakIc"
      },
      "cell_type": "markdown",
      "source": [
        "## Gradient descent introduction\n",
        "\n",
        "Given a function $f(x)$, how would you find the minimum value?\n",
        "\n",
        "Consider the function $f(x) = x^2$.\n",
        "\n",
        "Following this intuition, you want to move down the \"gradient\" - in the 2-D case, slope - to reach the minimum. You find the slope by taking the **derivative**.\n",
        "\n",
        "Then change x such that the function's output at the new value of x decreases:\n",
        "\n",
        "$x$<sub>$new$</sub> = $x$<sub>$old$</sub> $-$ $α \\frac{df(x)}{dt}$\n",
        "\n",
        "Similarly, the magnitude of the vector that is the gradient tells you what the slope of the hill is in that direction.\n",
        "\n",
        "Why does this work? (Note - this works for any function, not just $x^2$.)\n",
        "\n",
        "Do this until you come close to 0. See code below for an implementation of the above formula.\n",
        "\n",
        "\n",
        "\n"
      ]
    },
    {
      "metadata": {
        "colab_type": "code",
        "id": "_KF8D6aUxL96",
        "outputId": "b80ff792-46f7-4bb0-c98d-8dd42cf33a68",
        "colab": {
          "base_uri": "https://localhost:8080/",
          "height": 1731
        }
      },
      "cell_type": "code",
      "source": [
        "num_epochs = 100\n",
        "learning_rate = 1\n",
        "x = 100\n",
        "\n",
        "def derivativeAt(x):\n",
        "    return 2 * x\n",
        "\n",
        "for i in range(num_epochs):\n",
        "    x = x - derivativeAt(x)*learning_rate\n",
        "    print(x)"
      ],
      "execution_count": 8,
      "outputs": [
        {
          "output_type": "stream",
          "text": [
            "-100\n",
            "100\n",
            "-100\n",
            "100\n",
            "-100\n",
            "100\n",
            "-100\n",
            "100\n",
            "-100\n",
            "100\n",
            "-100\n",
            "100\n",
            "-100\n",
            "100\n",
            "-100\n",
            "100\n",
            "-100\n",
            "100\n",
            "-100\n",
            "100\n",
            "-100\n",
            "100\n",
            "-100\n",
            "100\n",
            "-100\n",
            "100\n",
            "-100\n",
            "100\n",
            "-100\n",
            "100\n",
            "-100\n",
            "100\n",
            "-100\n",
            "100\n",
            "-100\n",
            "100\n",
            "-100\n",
            "100\n",
            "-100\n",
            "100\n",
            "-100\n",
            "100\n",
            "-100\n",
            "100\n",
            "-100\n",
            "100\n",
            "-100\n",
            "100\n",
            "-100\n",
            "100\n",
            "-100\n",
            "100\n",
            "-100\n",
            "100\n",
            "-100\n",
            "100\n",
            "-100\n",
            "100\n",
            "-100\n",
            "100\n",
            "-100\n",
            "100\n",
            "-100\n",
            "100\n",
            "-100\n",
            "100\n",
            "-100\n",
            "100\n",
            "-100\n",
            "100\n",
            "-100\n",
            "100\n",
            "-100\n",
            "100\n",
            "-100\n",
            "100\n",
            "-100\n",
            "100\n",
            "-100\n",
            "100\n",
            "-100\n",
            "100\n",
            "-100\n",
            "100\n",
            "-100\n",
            "100\n",
            "-100\n",
            "100\n",
            "-100\n",
            "100\n",
            "-100\n",
            "100\n",
            "-100\n",
            "100\n",
            "-100\n",
            "100\n",
            "-100\n",
            "100\n",
            "-100\n",
            "100\n"
          ],
          "name": "stdout"
        }
      ]
    },
    {
      "metadata": {
        "colab_type": "text",
        "id": "w_iV9-rNxcV8"
      },
      "cell_type": "markdown",
      "source": [
        "#### Gradient\n",
        "\n",
        "What would we do if f has more than one variable?\n",
        "\n",
        "## ...\n",
        "\n",
        "Remember the concept of the gradient from the slides? It points in the direction of steepest ascent. Thus, the negation (flipping the sign) of the gradient will point in the direction of **steepest descent.**\n",
        "\n",
        "If you have an entirely positive function and want to find when it hits 0, then when starting at any random point you want to find the direction of steepest descent. Finding the gradient and flipping its sign will give you this direction. This is the intuition behind **gradient descent**. This concept is crucial to machine learning, so remember this for next week - we'll cover gradient descent in more depth then.\n",
        "\n",
        "**Example**\n",
        "\n",
        "Say $f(x, y) = 3x^2 + 2y^2 + x + 3y + 17$"
      ]
    },
    {
      "metadata": {
        "colab_type": "code",
        "id": "5-qxP_-5zV-q",
        "colab": {
          "base_uri": "https://localhost:8080/",
          "height": 1731
        },
        "outputId": "d8025b87-1a9e-4098-85ef-bb7d24ee5e82"
      },
      "cell_type": "code",
      "source": [
        "num_epochs = 100\n",
        "learning_rate = 0.1\n",
        "variables = np.array([220,76])\n",
        "\n",
        "def gradient(variables):\n",
        "    dfdx = 6 * variables[0] + 1\n",
        "    dfdy = 4 * variables[1] + 3\n",
        "    return np.array([dfdx, dfdy])\n",
        "\n",
        "for i in range(num_epochs):\n",
        "    variables = variables - gradient(variables) * learning_rate\n",
        "    print(variables)"
      ],
      "execution_count": 13,
      "outputs": [
        {
          "output_type": "stream",
          "text": [
            "[87.9 45.3]\n",
            "[35.06 26.88]\n",
            "[13.924 15.828]\n",
            "[5.4696 9.1968]\n",
            "[2.08784 5.21808]\n",
            "[0.735136 2.830848]\n",
            "[0.1940544 1.3985088]\n",
            "[-0.02237824  0.53910528]\n",
            "[-0.1089513   0.02346317]\n",
            "[-0.14358052 -0.2859221 ]\n",
            "[-0.15743221 -0.47155326]\n",
            "[-0.16297288 -0.58293196]\n",
            "[-0.16518915 -0.64975917]\n",
            "[-0.16607566 -0.6898555 ]\n",
            "[-0.16643026 -0.7139133 ]\n",
            "[-0.16657211 -0.72834798]\n",
            "[-0.16662884 -0.73700879]\n",
            "[-0.16665154 -0.74220527]\n",
            "[-0.16666061 -0.74532316]\n",
            "[-0.16666425 -0.7471939 ]\n",
            "[-0.1666657  -0.74831634]\n",
            "[-0.16666628 -0.7489898 ]\n",
            "[-0.16666651 -0.74939388]\n",
            "[-0.1666666  -0.74963633]\n",
            "[-0.16666664 -0.7497818 ]\n",
            "[-0.16666666 -0.74986908]\n",
            "[-0.16666666 -0.74992145]\n",
            "[-0.16666667 -0.74995287]\n",
            "[-0.16666667 -0.74997172]\n",
            "[-0.16666667 -0.74998303]\n",
            "[-0.16666667 -0.74998982]\n",
            "[-0.16666667 -0.74999389]\n",
            "[-0.16666667 -0.74999634]\n",
            "[-0.16666667 -0.7499978 ]\n",
            "[-0.16666667 -0.74999868]\n",
            "[-0.16666667 -0.74999921]\n",
            "[-0.16666667 -0.74999953]\n",
            "[-0.16666667 -0.74999972]\n",
            "[-0.16666667 -0.74999983]\n",
            "[-0.16666667 -0.7499999 ]\n",
            "[-0.16666667 -0.74999994]\n",
            "[-0.16666667 -0.74999996]\n",
            "[-0.16666667 -0.74999998]\n",
            "[-0.16666667 -0.74999999]\n",
            "[-0.16666667 -0.74999999]\n",
            "[-0.16666667 -0.75      ]\n",
            "[-0.16666667 -0.75      ]\n",
            "[-0.16666667 -0.75      ]\n",
            "[-0.16666667 -0.75      ]\n",
            "[-0.16666667 -0.75      ]\n",
            "[-0.16666667 -0.75      ]\n",
            "[-0.16666667 -0.75      ]\n",
            "[-0.16666667 -0.75      ]\n",
            "[-0.16666667 -0.75      ]\n",
            "[-0.16666667 -0.75      ]\n",
            "[-0.16666667 -0.75      ]\n",
            "[-0.16666667 -0.75      ]\n",
            "[-0.16666667 -0.75      ]\n",
            "[-0.16666667 -0.75      ]\n",
            "[-0.16666667 -0.75      ]\n",
            "[-0.16666667 -0.75      ]\n",
            "[-0.16666667 -0.75      ]\n",
            "[-0.16666667 -0.75      ]\n",
            "[-0.16666667 -0.75      ]\n",
            "[-0.16666667 -0.75      ]\n",
            "[-0.16666667 -0.75      ]\n",
            "[-0.16666667 -0.75      ]\n",
            "[-0.16666667 -0.75      ]\n",
            "[-0.16666667 -0.75      ]\n",
            "[-0.16666667 -0.75      ]\n",
            "[-0.16666667 -0.75      ]\n",
            "[-0.16666667 -0.75      ]\n",
            "[-0.16666667 -0.75      ]\n",
            "[-0.16666667 -0.75      ]\n",
            "[-0.16666667 -0.75      ]\n",
            "[-0.16666667 -0.75      ]\n",
            "[-0.16666667 -0.75      ]\n",
            "[-0.16666667 -0.75      ]\n",
            "[-0.16666667 -0.75      ]\n",
            "[-0.16666667 -0.75      ]\n",
            "[-0.16666667 -0.75      ]\n",
            "[-0.16666667 -0.75      ]\n",
            "[-0.16666667 -0.75      ]\n",
            "[-0.16666667 -0.75      ]\n",
            "[-0.16666667 -0.75      ]\n",
            "[-0.16666667 -0.75      ]\n",
            "[-0.16666667 -0.75      ]\n",
            "[-0.16666667 -0.75      ]\n",
            "[-0.16666667 -0.75      ]\n",
            "[-0.16666667 -0.75      ]\n",
            "[-0.16666667 -0.75      ]\n",
            "[-0.16666667 -0.75      ]\n",
            "[-0.16666667 -0.75      ]\n",
            "[-0.16666667 -0.75      ]\n",
            "[-0.16666667 -0.75      ]\n",
            "[-0.16666667 -0.75      ]\n",
            "[-0.16666667 -0.75      ]\n",
            "[-0.16666667 -0.75      ]\n",
            "[-0.16666667 -0.75      ]\n",
            "[-0.16666667 -0.75      ]\n"
          ],
          "name": "stdout"
        }
      ]
    },
    {
      "metadata": {
        "colab_type": "text",
        "id": "QnAKSlSZxscc"
      },
      "cell_type": "markdown",
      "source": [
        "### Tensorflow\n",
        "\n",
        "Tensorflow is an important tool that we won't be using for our coding sessions this quarter, but if we have extra time at the end of sessions we'll cover a little bit of it so you're more comfortable with it when it shows up in advanced track. \n",
        "\n",
        "Learning Tensorflow is **entirely optional!** Our beginner track coding sessions will not use any - we'll be sticking to numpy. That being said, it's an extremely helpful tool so if you're comfortable with the material being presented, we encourage you to go on and pick up some Tensorflow as well.\n",
        "\n",
        "You can find the Tensorflow notebook [here](https://github.com/uclaacmai/beginner-track-fall-18/blob/master/Workshop2/Tensorflow_intro.ipynb).\n",
        "\n",
        "If you'd like to work on that notebook, clone our repository: https://github.com/uclaacmai/beginner-track-fall-18\n",
        "Upload Tenorflow_intro.ipynb onto Google Colab and start coding!\n",
        "\n"
      ]
    },
    {
      "metadata": {
        "id": "Bv9SpJLotqW2",
        "colab_type": "text"
      },
      "cell_type": "markdown",
      "source": [
        "### Resources\n",
        "\n",
        "#### Python / Numpy\n",
        "\n",
        "* If you're new to coding, I'd recommend [Codecademy's Python course](https://www.codecademy.com/learn/learn-python). It starts from the absolute basics, so it might be slow for those with prior programming experience.\n",
        "* If you're more familiar with coding, Python is a relatively simple language - a quick google search will give you a rundown of the basics (ex. [this](https://www.stavros.io/tutorials/python/)) and then googling a little more to determine specifics, e.g. syntax questions, ought to do the job. \n",
        "* Same with Numpy. \n",
        "* To summarize: when it comes to learning coding, you'll learn by doing. Not sure how to do something? Google it, copy an example, implement it on your own, and just keep going.\n",
        "* If this is your first time coding, it sometimes takes a while to get used to, but don't worry! Keep working at it and you'll definitely get better. \n",
        "* Got more questions / concerns about Python / coding in general? Reach out to any of our officers - we'll be more than happy to help you.\n",
        "\n",
        "#### Math\n",
        "\n",
        "* Want a more theory-based / mathematical explanation of gradient descent? [Khanacademy's video series](https://www.khanacademy.org/math/multivariable-calculus/multivariable-derivatives/gradient-and-directional-derivatives/v/gradient) will come in pretty handy. You'll also develop an intuition for why a gradient points in the direction of steepest ascent - not needed for our purposes, but cool to know in general.\n",
        "* Never really worked with matrices before? Start with the classic [Mathisfun introduction](https://www.mathsisfun.com/algebra/matrix-introduction.html). This simple page still goes farther than we need to in some places - don't worry about matrix - matrix multiplication or inverses.\n",
        "* Want a closer look at matrix - vector multiplication (super important for future workshops)? Check out ML legend Andrew Ng's [video on matrix-vector multiplication](https://www.coursera.org/lecture/machine-learning/matrix-vector-multiplication-aQDta), which is part of his Linear Algebra Review series. (Also, we highly recommend his ML courses in general. He's a great instructor, and is very clear and concise in his presentation of topics of all difficulties.)\n",
        "\n",
        "As always, feel free to reach out to any of the AI officers with questions / concerns."
      ]
    }
  ]
}